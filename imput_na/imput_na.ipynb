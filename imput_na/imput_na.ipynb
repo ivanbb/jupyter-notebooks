{
 "cells": [
  {
   "cell_type": "code",
   "execution_count": 1,
   "metadata": {
    "_cell_guid": "b1076dfc-b9ad-4769-8c92-a6c4dae69d19",
    "_uuid": "8f2839f25d086af736a60e9eeb907d3b93b6e0e5"
   },
   "outputs": [],
   "source": [
    "import numpy as np\n",
    "import pandas as pd\n",
    "from sklearn.metrics import f1_score\n",
    "from sklearn.linear_model import SGDClassifier\n",
    "f1 = {}"
   ]
  },
  {
   "cell_type": "markdown",
   "metadata": {},
   "source": [
    "Import and shuffle data"
   ]
  },
  {
   "cell_type": "code",
   "execution_count": 2,
   "metadata": {
    "_cell_guid": "79c7e3d0-c299-4dcb-8224-4455121ee9b0",
    "_uuid": "d629ff2d2480ee46fbb7e2d37f6b5fab8052498a"
   },
   "outputs": [
    {
     "data": {
      "text/html": [
       "<div>\n",
       "<style scoped>\n",
       "    .dataframe tbody tr th:only-of-type {\n",
       "        vertical-align: middle;\n",
       "    }\n",
       "\n",
       "    .dataframe tbody tr th {\n",
       "        vertical-align: top;\n",
       "    }\n",
       "\n",
       "    .dataframe thead th {\n",
       "        text-align: right;\n",
       "    }\n",
       "</style>\n",
       "<table border=\"1\" class=\"dataframe\">\n",
       "  <thead>\n",
       "    <tr style=\"text-align: right;\">\n",
       "      <th></th>\n",
       "      <th>Mean of the integrated profile</th>\n",
       "      <th>Standard deviation of the integrated profile</th>\n",
       "      <th>Excess kurtosis of the integrated profile</th>\n",
       "      <th>Skewness of the integrated profile</th>\n",
       "      <th>Mean of the DM-SNR curve</th>\n",
       "      <th>Standard deviation of the DM-SNR curve</th>\n",
       "      <th>Excess kurtosis of the DM-SNR curve</th>\n",
       "      <th>Skewness of the DM-SNR curve</th>\n",
       "      <th>target_class</th>\n",
       "    </tr>\n",
       "  </thead>\n",
       "  <tbody>\n",
       "    <tr>\n",
       "      <th>11866</th>\n",
       "      <td>117.695312</td>\n",
       "      <td>47.618201</td>\n",
       "      <td>0.111360</td>\n",
       "      <td>0.187767</td>\n",
       "      <td>3.345318</td>\n",
       "      <td>20.663501</td>\n",
       "      <td>8.693813</td>\n",
       "      <td>85.277517</td>\n",
       "      <td>0</td>\n",
       "    </tr>\n",
       "    <tr>\n",
       "      <th>9477</th>\n",
       "      <td>155.898438</td>\n",
       "      <td>50.891865</td>\n",
       "      <td>-0.293039</td>\n",
       "      <td>-0.219576</td>\n",
       "      <td>0.678930</td>\n",
       "      <td>10.138288</td>\n",
       "      <td>18.839142</td>\n",
       "      <td>400.997616</td>\n",
       "      <td>0</td>\n",
       "    </tr>\n",
       "    <tr>\n",
       "      <th>7788</th>\n",
       "      <td>106.882812</td>\n",
       "      <td>45.665499</td>\n",
       "      <td>0.309543</td>\n",
       "      <td>0.627811</td>\n",
       "      <td>7.250000</td>\n",
       "      <td>34.596700</td>\n",
       "      <td>5.044549</td>\n",
       "      <td>25.287163</td>\n",
       "      <td>0</td>\n",
       "    </tr>\n",
       "    <tr>\n",
       "      <th>8187</th>\n",
       "      <td>119.054688</td>\n",
       "      <td>56.361044</td>\n",
       "      <td>0.496350</td>\n",
       "      <td>-0.238969</td>\n",
       "      <td>2.690635</td>\n",
       "      <td>18.040866</td>\n",
       "      <td>9.734548</td>\n",
       "      <td>106.960269</td>\n",
       "      <td>0</td>\n",
       "    </tr>\n",
       "    <tr>\n",
       "      <th>5593</th>\n",
       "      <td>128.609375</td>\n",
       "      <td>47.140123</td>\n",
       "      <td>0.072144</td>\n",
       "      <td>0.213887</td>\n",
       "      <td>5.015050</td>\n",
       "      <td>29.717254</td>\n",
       "      <td>6.231137</td>\n",
       "      <td>38.863950</td>\n",
       "      <td>0</td>\n",
       "    </tr>\n",
       "  </tbody>\n",
       "</table>\n",
       "</div>"
      ],
      "text/plain": [
       "        Mean of the integrated profile      ...       target_class\n",
       "11866                       117.695312      ...                  0\n",
       "9477                        155.898438      ...                  0\n",
       "7788                        106.882812      ...                  0\n",
       "8187                        119.054688      ...                  0\n",
       "5593                        128.609375      ...                  0\n",
       "\n",
       "[5 rows x 9 columns]"
      ]
     },
     "execution_count": 2,
     "metadata": {},
     "output_type": "execute_result"
    }
   ],
   "source": [
    "df = pd.read_csv('../input/pulsar_stars.csv')\n",
    "df = df.sample(frac=1)\n",
    "df.head()"
   ]
  },
  {
   "cell_type": "markdown",
   "metadata": {},
   "source": [
    "Training on full dataset"
   ]
  },
  {
   "cell_type": "code",
   "execution_count": 3,
   "metadata": {},
   "outputs": [],
   "source": [
    "X = df.drop('target_class', axis=1)\n",
    "Y = df['target_class']"
   ]
  },
  {
   "cell_type": "code",
   "execution_count": 4,
   "metadata": {},
   "outputs": [],
   "source": [
    "split = int(len(X)*0.6)"
   ]
  },
  {
   "cell_type": "code",
   "execution_count": 5,
   "metadata": {},
   "outputs": [],
   "source": [
    "x_train = X[:split]\n",
    "y_train = Y[:split]\n",
    "x_test = X[split:]\n",
    "y_test = Y[split:]"
   ]
  },
  {
   "cell_type": "code",
   "execution_count": 6,
   "metadata": {},
   "outputs": [],
   "source": [
    "from sklearn.preprocessing import StandardScaler\n",
    "scalar = StandardScaler()\n",
    "x_train = scalar.fit_transform(x_train)\n",
    "x_test = scalar.transform(x_test)"
   ]
  },
  {
   "cell_type": "code",
   "execution_count": 7,
   "metadata": {},
   "outputs": [
    {
     "name": "stdout",
     "output_type": "stream",
     "text": [
      "Train accuracy = 0.9688955112683926, Test accuracy = 0.9652234636871508\n"
     ]
    }
   ],
   "source": [
    "sgd = SGDClassifier(loss='log',random_state=10, class_weight='balanced', alpha=0.01,n_jobs=-1)\n",
    "sgd.fit(x_train, y_train)\n",
    "print('Train accuracy = {0}, Test accuracy = {1}'.format(sgd.score(x_train, y_train), sgd.score(x_test, y_test)))\n",
    "f1['full'] = [f1_score(sgd.predict(x_train), y_train),\n",
    "          f1_score(sgd.predict(x_test), y_test)]"
   ]
  },
  {
   "cell_type": "markdown",
   "metadata": {},
   "source": [
    "Replacing 30% of values with Na"
   ]
  },
  {
   "cell_type": "code",
   "execution_count": 8,
   "metadata": {},
   "outputs": [],
   "source": [
    "p=0.3\n",
    "ind = np.array(np.random.choice(X.shape[0]*X.shape[1],\n",
    "                                size=(int(X.shape[0]*X.shape[1]*p)), \n",
    "                                replace=False))\n",
    "for i in ind:\n",
    "    X.iloc[i%X.shape[0],i%X.shape[1]]=np.nan"
   ]
  },
  {
   "cell_type": "code",
   "execution_count": 9,
   "metadata": {},
   "outputs": [],
   "source": [
    "Xm = X.copy()"
   ]
  },
  {
   "cell_type": "markdown",
   "metadata": {},
   "source": [
    "Filling na by replacing with mean"
   ]
  },
  {
   "cell_type": "code",
   "execution_count": 10,
   "metadata": {},
   "outputs": [],
   "source": [
    "Xm_filled = Xm.fillna(Xm.mean())\n",
    "x_train = Xm_filled[:split]\n",
    "y_train = Y[:split]\n",
    "x_test = Xm_filled[split:]\n",
    "y_test = Y[split:]"
   ]
  },
  {
   "cell_type": "code",
   "execution_count": 11,
   "metadata": {},
   "outputs": [],
   "source": [
    "x_train = scalar.fit_transform(x_train)\n",
    "x_test = scalar.transform(x_test)"
   ]
  },
  {
   "cell_type": "code",
   "execution_count": 12,
   "metadata": {},
   "outputs": [
    {
     "name": "stdout",
     "output_type": "stream",
     "text": [
      "Train accuracy = 0.9559508288321847, Test accuracy = 0.957122905027933\n"
     ]
    }
   ],
   "source": [
    "sgd.fit(x_train, y_train)\n",
    "print('Train accuracy = {0}, Test accuracy = {1}'.format(sgd.score(x_train, y_train), sgd.score(x_test, y_test)))\n",
    "f1['mean'] = [f1_score(sgd.predict(x_train), y_train),\n",
    "          f1_score(sgd.predict(x_test), y_test)]"
   ]
  },
  {
   "cell_type": "markdown",
   "metadata": {},
   "source": [
    "Filling na using KNN regressor. <br>\n",
    "The algorithm is based on an iterative approach.\n",
    "For each column containing missing values:\n",
    "1. Select a column containing missing values.\n",
    "2. In all other columns, fill in the missing values with an average.\n",
    "2. Fill the selected column using KNN regressor, using all other columns as a training dataset and, as indications, not missing values of the target column.\n",
    "3. Calculate the quality of the regression.\n",
    "\n",
    "This process is repeated until the average value of the regression quality metric for all columns containing missing values in the new itteration is greater than the value in the previous one by the value of delta.\n"
   ]
  },
  {
   "cell_type": "code",
   "execution_count": 13,
   "metadata": {},
   "outputs": [],
   "source": [
    "def knn_na_filler(Xin, delta=0.01, n_neighbors=5):\n",
    "    Xin = Xin.copy()\n",
    "    from sklearn.neighbors import KNeighborsRegressor\n",
    "    from sklearn.pipeline import Pipeline\n",
    "    from sklearn.preprocessing import StandardScaler\n",
    "    print('Filling Na with KNN...')\n",
    "    missindxs = {col:Xin[Xin.loc[:,col].isnull()].index for col in Xin.columns}\n",
    "    \n",
    "    prev_mean_score = 0\n",
    "    i=0\n",
    "    while True:\n",
    "        i+=1\n",
    "        mean_score = 0 #mean score for column values prediction on test\n",
    "        for col in Xin.columns:\n",
    "            missindx = missindxs[col] #get indeces of missing values\n",
    "            \n",
    "            xtarget = Xin.loc[Xin.index.isin(missindx),:].drop(axis=1, columns=col) # features for missing values\n",
    "            xtarget = xtarget.fillna(np.mean(xtarget)) # Na values from other columns filling with mean\n",
    "            xtr = Xin.loc[~Xin.index.isin(missindx),:].drop(axis=1, columns=col) # features for training data\n",
    "            xtr = xtr.fillna(np.mean(xtr))\n",
    "            ytr = Xin.loc[~Xin.index.isin(missindx),col]\n",
    "            \n",
    "            knnna = KNeighborsRegressor(n_neighbors=n_neighbors, weights='distance')\n",
    "            scalar = StandardScaler()\n",
    "            pipe = Pipeline([('scalar', scalar), ('model', knnna)])\n",
    "            pipe.fit(xtr[:int(len(xtr)*0.7)], ytr[:int(len(xtr)*0.7)])\n",
    "            train_score = pipe.score(xtr[:int(len(xtr)*0.7)], ytr[:int(len(xtr)*0.7)])\n",
    "            test_score = pipe.score(xtr[int(len(xtr)*0.7):], ytr[int(len(xtr)*0.7):])\n",
    "            mean_score+=test_score\n",
    "            \n",
    "            Xin.loc[Xin.index.isin(missindx), col] = pipe.predict(xtarget) # filling Nan in target column with predictions\n",
    "        \n",
    "        \n",
    "        mean_score /= len(Xin.columns)\n",
    "        print('Mean score at itteration {0} eq {1}'.format(i, mean_score))\n",
    "        if (mean_score-prev_mean_score)<delta:\n",
    "            break\n",
    "        prev_mean_score = mean_score\n",
    "        \n",
    "    return Xin"
   ]
  },
  {
   "cell_type": "code",
   "execution_count": 14,
   "metadata": {},
   "outputs": [
    {
     "name": "stdout",
     "output_type": "stream",
     "text": [
      "Filling Na with KNN...\n",
      "Mean score at itteration 1 eq 0.8708636592103532\n",
      "Mean score at itteration 2 eq 0.9193770991201302\n",
      "Mean score at itteration 3 eq 0.9226233824018291\n",
      "Mean score at itteration 4 eq 0.9235247198523738\n"
     ]
    }
   ],
   "source": [
    "Xm_filled = Xm.fillna(knn_na_filler(Xm, 0.001, 5))\n",
    "x_train = Xm_filled[:split]\n",
    "y_train = Y[:split]\n",
    "x_test = Xm_filled[split:]\n",
    "y_test = Y[split:]\n",
    "x_train = scalar.fit_transform(x_train)\n",
    "x_test = scalar.transform(x_test)"
   ]
  },
  {
   "cell_type": "code",
   "execution_count": 15,
   "metadata": {},
   "outputs": [
    {
     "name": "stdout",
     "output_type": "stream",
     "text": [
      "Train accuracy = 0.9639597690445149, Test accuracy = 0.9621508379888268\n"
     ]
    }
   ],
   "source": [
    "sgd.fit(x_train, y_train)\n",
    "print('Train accuracy = {0}, Test accuracy = {1}'.format(sgd.score(x_train, y_train), sgd.score(x_test, y_test)))\n",
    "f1['knn'] = [f1_score(sgd.predict(x_train), y_train),\n",
    "             f1_score(sgd.predict(x_test), y_test)]"
   ]
  },
  {
   "cell_type": "code",
   "execution_count": 16,
   "metadata": {},
   "outputs": [
    {
     "name": "stdout",
     "output_type": "stream",
     "text": [
      "F1 score in full dataset: Train=0.8418560606060606, Test=0.8222698072805139\n",
      "F1 score with mean replacing: Train=0.7860696517412935, Test=0.789293067947838\n",
      "F1 score with KNN replacing: Train=0.8185654008438819, Test=0.8076650106458482\n"
     ]
    }
   ],
   "source": [
    "print('F1 score in full dataset: Train={}, Test={}'.format(f1['full'][0],f1['full'][1]))\n",
    "print('F1 score with mean replacing: Train={}, Test={}'.format(f1['mean'][0],f1['mean'][1]))\n",
    "print('F1 score with KNN replacing: Train={}, Test={}'.format(f1['knn'][0],f1['knn'][1]))"
   ]
  },
  {
   "cell_type": "code",
   "execution_count": null,
   "metadata": {},
   "outputs": [],
   "source": []
  }
 ],
 "metadata": {
  "kernelspec": {
   "display_name": "Python 3",
   "language": "python",
   "name": "python3"
  },
  "language_info": {
   "codemirror_mode": {
    "name": "ipython",
    "version": 3
   },
   "file_extension": ".py",
   "mimetype": "text/x-python",
   "name": "python",
   "nbconvert_exporter": "python",
   "pygments_lexer": "ipython3",
   "version": "3.6.6"
  }
 },
 "nbformat": 4,
 "nbformat_minor": 1
}
