{
 "cells": [
  {
   "cell_type": "code",
   "execution_count": null,
   "metadata": {},
   "outputs": [],
   "source": [
    "from keras.models import Sequential # basic class for specifying and training a neural network\n",
    "from keras.layers import Input, Conv2D, MaxPooling2D, Dense, Dropout, Flatten, Activation\n",
    "from keras.callbacks import ModelCheckpoint, ReduceLROnPlateau\n",
    "from keras.utils import np_utils # utilities for one-hot encoding of ground truth values\n",
    "from keras.layers.normalization import BatchNormalization\n",
    "from keras.layers.advanced_activations import LeakyReLU\n",
    "from keras.optimizers import nadam\n",
    "import cv2\n",
    "import numpy as np\n",
    "from os import listdir\n",
    "import tensorflow as tf\n",
    "from matplotlib import pyplot as plt"
   ]
  },
  {
   "cell_type": "code",
   "execution_count": null,
   "metadata": {},
   "outputs": [],
   "source": [
    "batch_size = 5\n",
    "num_epochs = 100\n",
    "kernel_size = 3 # using 3x3 kernels throughout\n",
    "pool_size = 2 # using 2x2 pooling throughout\n",
    "conv_depth_1 = 16 # kernels per conv. layer 1\n",
    "conv_depth_2 = 32 # kernels per conv. layer 1 after the first pooling layer\n",
    "drop_prob_1 = 0.5 # dropout after pooling5\n",
    "drop_prob_2 = 0.5 # dropout in the FC layer\n",
    "hidden_size = 128 # neurons for FC layer\n",
    "max_items_for_class = 5000 # count of items of each class in dataset\n",
    "class_one_dir = 'Data/womens'\n",
    "class_two_dir = 'Data/mans'\n",
    "img_size = (64, 64)"
   ]
  },
  {
   "cell_type": "code",
   "execution_count": null,
   "metadata": {},
   "outputs": [],
   "source": [
    "def shuffle_in_unison(a, b):\n",
    "    # courtsey http://stackoverflow.com/users/190280/josh-bleecher-snyder\n",
    "    assert len(a) == len(b)\n",
    "    shuffled_a = np.empty(a.shape, dtype=a.dtype)\n",
    "    shuffled_b = np.empty(b.shape, dtype=b.dtype)\n",
    "    permutation = np.random.permutation(len(a))\n",
    "    for old_index, new_index in enumerate(permutation):\n",
    "        shuffled_a[new_index] = a[old_index]\n",
    "        shuffled_b[new_index] = b[old_index]\n",
    "    return shuffled_a, shuffled_b"
   ]
  },
  {
   "cell_type": "code",
   "execution_count": null,
   "metadata": {},
   "outputs": [],
   "source": [
    "def create_Xt_Yt(X, y, percentage=0.9):\n",
    "    p = int(len(X) * percentage)\n",
    "    X_train = X[0:p]\n",
    "    Y_train = y[0:p]\n",
    "\n",
    "    X_test = X[p:]\n",
    "    Y_test = y[p:]\n",
    "\n",
    "    return X_train, X_test, Y_train, Y_test"
   ]
  },
  {
   "cell_type": "code",
   "execution_count": null,
   "metadata": {},
   "outputs": [],
   "source": [
    "def make_x_y():\n",
    "    x, y = [], []\n",
    "    for i, img in enumerate(listdir(class_one_dir)):  # iteration over images in a folder\n",
    "        try:\n",
    "                if i >= max_items_for_class:\n",
    "                    break\n",
    "                img = cv2.imread(class_one_dir+'/'+img, cv2.IMREAD_ANYCOLOR)\n",
    "                res = cv2.resize(img, img_size)\n",
    "                x.append(res)\n",
    "                y.append(1)\n",
    "        except Exception as e:\n",
    "            print(e)\n",
    "            print(i)\n",
    "\n",
    "    for i, img in enumerate(listdir(class_two_dir)):  # iteration over images in a folder\n",
    "        try:\n",
    "                if i >= max_items_for_class:\n",
    "                    break\n",
    "                img = cv2.imread(class_two_dir+'/'+img, cv2.IMREAD_ANYCOLOR)\n",
    "                res = cv2.resize(img, img_size)\n",
    "                x.append(res)\n",
    "                y.append(0)\n",
    "        except Exception as e:\n",
    "            print(e)\n",
    "            print(i)\n",
    "    x = np.array(x)\n",
    "    y = np.array(y)\n",
    "    x, y = shuffle_in_unison(x, y) #  shuffle dataset\n",
    "    x_train, x_test, y_train, y_test = create_Xt_Yt(x, y)\n",
    "    return (np.array(x_train), np.array(y_train)), (np.array(x_test), np.array(y_test))"
   ]
  },
  {
   "cell_type": "code",
   "execution_count": null,
   "metadata": {},
   "outputs": [],
   "source": [
    "(x_train, y_train), (x_test, y_test) = make_x_y()\n",
    "(num_train), (depth, height, width) = (x_train.shape[0]), (x_train[0].shape)\n",
    "num_test = x_test.shape[0]\n",
    "num_classes = np.unique(y_train).shape[0]\n",
    "x_train = x_train.astype('float32')\n",
    "x_test = x_test.astype('float32')\n",
    "x_train /= np.max(x_train) # Normalise data to [0, 1] range\n",
    "x_test /= np.max(x_train) # Normalise data to [0, 1] range\n",
    "\n",
    "y_train = np_utils.to_categorical(y_train, num_classes) # One-hot encode the labels\n",
    "y_test = np_utils.to_categorical(y_test, num_classes) # One-hot encode the labels"
   ]
  },
  {
   "cell_type": "code",
   "execution_count": null,
   "metadata": {},
   "outputs": [],
   "source": [
    "model = Sequential()"
   ]
  },
  {
   "cell_type": "code",
   "execution_count": null,
   "metadata": {},
   "outputs": [],
   "source": [
    "model.add(Conv2D(conv_depth_1, (kernel_size, kernel_size), padding='same', input_shape=(depth, height, width)))\n",
    "model.add(LeakyReLU())\n",
    "model.add(BatchNormalization())\n",
    "model.add(Conv2D(conv_depth_1, (kernel_size, kernel_size), padding='same'))\n",
    "model.add(LeakyReLU())\n",
    "\n",
    "model.add(MaxPooling2D(pool_size=(pool_size, pool_size)))\n",
    "model.add(Dropout(drop_prob_1))    \n",
    "\n",
    "model.add(Conv2D(conv_depth_2, (kernel_size, kernel_size), padding='same'))\n",
    "model.add(LeakyReLU())\n",
    "model.add(Conv2D(conv_depth_2, (kernel_size, kernel_size), padding='same'))\n",
    "model.add(LeakyReLU())\n",
    "          \n",
    "model.add(MaxPooling2D(pool_size=(pool_size, pool_size)))\n",
    "          \n",
    "model.add(Flatten())\n",
    "          \n",
    "model.add(Dense(hidden_size))\n",
    "model.add(LeakyReLU())\n",
    "model.add(Dropout(drop_prob_2))\n",
    "\n",
    "model.add(Dense(num_classes))\n",
    "model.add(Activation('softmax'))"
   ]
  },
  {
   "cell_type": "code",
   "execution_count": null,
   "metadata": {},
   "outputs": [],
   "source": [
    "opt = nadam(lr=0.0001) # usung nadam optimizer\n",
    "checkpointer = ModelCheckpoint(filepath=\"weights.h5\", monitor='val_acc', verbose=1, save_best_only=True, save_weights_only=True)\n",
    "model.compile(optimizer=opt,\n",
    "              loss='categorical_crossentropy',\n",
    "              metrics=['accuracy'])"
   ]
  },
  {
   "cell_type": "code",
   "execution_count": null,
   "metadata": {},
   "outputs": [],
   "source": [
    "history = model.fit(x_train, y_train,                # Train the model using the training set...\n",
    "          batch_size=batch_size, epochs=num_epochs,\n",
    "          verbose=1, validation_split=0.1,  callbacks=[checkpointer]) # ...holding out 10% of the data for validation"
   ]
  },
  {
   "cell_type": "markdown",
   "metadata": {},
   "source": [
    "Visualisation of learning process"
   ]
  },
  {
   "cell_type": "code",
   "execution_count": null,
   "metadata": {},
   "outputs": [],
   "source": [
    "plt.figure()\n",
    "plt.plot(history.history['loss'])\n",
    "plt.plot(history.history['val_loss'])\n",
    "plt.title('model loss')\n",
    "plt.ylabel('loss')\n",
    "plt.xlabel('epoch')\n",
    "plt.legend(['train', 'test'], loc='best')\n",
    "plt.show()\n",
    "\n",
    "plt.figure()\n",
    "plt.plot(history.history['acc'])\n",
    "plt.plot(history.history['val_acc'])\n",
    "plt.title('model accuracy')\n",
    "plt.ylabel('accuracy')\n",
    "plt.xlabel('epoch')\n",
    "plt.legend(['train', 'test'], loc='best')\n",
    "plt.show()"
   ]
  },
  {
   "cell_type": "code",
   "execution_count": null,
   "metadata": {},
   "outputs": [],
   "source": [
    "model.load_weights(\"weights.h5\")\n",
    "pred = model.predict(x_test)\n",
    "pp = tf.placeholder('float', [None, 2])\n",
    "yy = tf.placeholder('float', [None, 2])\n",
    "correct = tf.equal(tf.argmax(pp, 1), tf.argmax(yy, 1))\n",
    "accuracy = tf.reduce_mean(tf.cast(correct, 'float'))\n",
    "with tf.Session() as sess:\n",
    "    print('Accuracy:', accuracy.eval({pp: pred, yy: y_test}))"
   ]
  },
  {
   "cell_type": "code",
   "execution_count": null,
   "metadata": {},
   "outputs": [],
   "source": []
  }
 ],
 "metadata": {
  "kernelspec": {
   "display_name": "Python 2",
   "language": "python",
   "name": "python2"
  },
  "language_info": {
   "codemirror_mode": {
    "name": "ipython",
    "version": 2
   },
   "file_extension": ".py",
   "mimetype": "text/x-python",
   "name": "python",
   "nbconvert_exporter": "python",
   "pygments_lexer": "ipython2",
   "version": "2.7.15"
  }
 },
 "nbformat": 4,
 "nbformat_minor": 2
}
