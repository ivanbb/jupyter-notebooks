{
 "cells": [
  {
   "cell_type": "code",
   "execution_count": null,
   "metadata": {},
   "outputs": [],
   "source": [
    "from bs4 import BeautifulSoup\n",
    "import requests\n",
    "import re\n",
    "import urllib.request\n",
    "from urllib.parse import quote\n",
    "import os\n",
    "import http.cookiejar\n",
    "import json\n",
    "import cv2 as cv\n",
    "import numpy as np\n",
    "import matplotlib.pyplot as plt"
   ]
  },
  {
   "cell_type": "code",
   "execution_count": null,
   "metadata": {},
   "outputs": [],
   "source": [
    "def get_soup(url,header):\n",
    "    \"\"\"Get result as html and return is parsed by bs4\"\"\"\n",
    "    request = urllib.request.Request(url,headers=header)\n",
    "    request = urllib.request.urlopen(request)\n",
    "    return BeautifulSoup(request,'html.parser')"
   ]
  },
  {
   "cell_type": "code",
   "execution_count": null,
   "metadata": {},
   "outputs": [],
   "source": [
    "def make_request(first):\n",
    "    url=\"https://www.bing.com/images/async?q=\"+format(quote(query))+\"&first=\"+str(first)+\"&count=100&relp=35&scenario=ImageBasicHover&datsrc=N_I&layout=RowBased&mmasync=1&dgState=x*255_y*963_h*182_c*1_i*246_r*40&IG=DFAB70E8D3754C3194E80C53E3650DAE&SFX=7&iid=images.5948\"\n",
    "    soup = get_soup(url,header)\n",
    "    print (url)\n",
    "    return soup"
   ]
  },
  {
   "cell_type": "code",
   "execution_count": null,
   "metadata": {},
   "outputs": [],
   "source": [
    "query = \"face\"# you can change the query for the image  here\n",
    "image_type=\"faces\" # name for the image\n",
    "DIR=\"Pictures\" # directory\n",
    "query= query.split()\n",
    "query='+'.join(query)\n",
    "header={'User-Agent':\"Mozilla/5.0 (X11; Ubuntu; Linux x86_64; rv:57.0) Gecko/20100101 Firefox/57.0\"}\n",
    "actualImages=[] # contains the links for images"
   ]
  },
  {
   "cell_type": "code",
   "execution_count": null,
   "metadata": {},
   "outputs": [],
   "source": [
    "# making directory for images\n",
    "if not os.path.exists(DIR):\n",
    "            os.mkdir(DIR)\n",
    "DIR = os.path.join(DIR, query.split()[0])\n",
    "\n",
    "if not os.path.exists(DIR):\n",
    "            os.mkdir(DIR)"
   ]
  },
  {
   "cell_type": "code",
   "execution_count": null,
   "metadata": {},
   "outputs": [],
   "source": [
    "def itter_result(soup):\n",
    "    \"\"\"a function for getting array of links from query result\"\"\"\n",
    "    for a in soup.find_all(\"a\",{\"class\":\"iusc\"}):\n",
    "        link =json.loads(a.attrs[\"m\"])[\"murl\"]\n",
    "        print (link)\n",
    "        actualImages.append(link)\n",
    "    print  (\"there are total\" , len(actualImages),\"images\")"
   ]
  },
  {
   "cell_type": "code",
   "execution_count": null,
   "metadata": {},
   "outputs": [],
   "source": [
    "for i in range(0, 1000, 100):\n",
    "    soup =  make_request(i)\n",
    "    itter_result(soup)"
   ]
  },
  {
   "cell_type": "code",
   "execution_count": null,
   "metadata": {},
   "outputs": [],
   "source": [
    "\"\"\"loading haar cascade to detect the desired objects in the image\"\"\"\n",
    "face_cascade = cv.CascadeClassifier('haarcascade_frontalface_default.xml') \n",
    "# cat_cascade = cv.CascadeClassifier('haarcascade_frontalcatface.xml') \n",
    "if face_cascade.empty():\n",
    "    print  ('Cascade loading error!')"
   ]
  },
  {
   "cell_type": "code",
   "execution_count": null,
   "metadata": {},
   "outputs": [],
   "source": [
    "for i , img  in enumerate(actualImages):\n",
    "    \"\"\"loading images and detection objects via haar cascade\"\"\"\n",
    "    try:\n",
    "        req = urllib.request.Request(img, headers=header)\n",
    "        raw_img = urllib.request.urlopen(req, timeout=1).read()\n",
    "        \n",
    "        image = np.asarray(bytearray(raw_img), dtype=\"uint8\") #converting image to np array of unsigned integer\n",
    "        image = cv.imdecode(image, cv.IMREAD_COLOR)\n",
    "        gray = cv.cvtColor(image, cv.COLOR_RGB2GRAY)\n",
    "        faces = face_cascade.detectMultiScale(gray, 1.3, 5) #detecting objects\n",
    "        \n",
    "        for (x,y,w,h) in faces:\n",
    "            roi_color = image[y:y+h, x:x+w]\n",
    "            cntr = len([file for file in os.listdir(DIR) if image_type in file]) + 1\n",
    "            print (cntr)\n",
    "            cv.imwrite((DIR+'/'+image_type + \"_\"+ str(cntr)+\".jpg\"),roi_color) \n",
    "            \n",
    "    except Exception as e:\n",
    "        print (\"could not load : \"+img)\n",
    "        print (e)"
   ]
  }
 ],
 "metadata": {
  "kernelspec": {
   "display_name": "Python 3",
   "language": "python",
   "name": "python3"
  },
  "language_info": {
   "codemirror_mode": {
    "name": "ipython",
    "version": 3
   },
   "file_extension": ".py",
   "mimetype": "text/x-python",
   "name": "python",
   "nbconvert_exporter": "python",
   "pygments_lexer": "ipython3",
   "version": "3.6.8"
  }
 },
 "nbformat": 4,
 "nbformat_minor": 2
}
